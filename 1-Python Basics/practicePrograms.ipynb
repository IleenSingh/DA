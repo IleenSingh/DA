{
 "cells": [
  {
   "cell_type": "markdown",
   "id": "1b905010",
   "metadata": {},
   "source": [
    "### Simple Calculator Program\n"
   ]
  },
  {
   "cell_type": "code",
   "execution_count": 2,
   "id": "3e088bbc",
   "metadata": {},
   "outputs": [
    {
     "name": "stdout",
     "output_type": "stream",
     "text": [
      "Sum 12.2\n",
      "sub -8.2\n",
      "Multiplication 20.4\n",
      "Divide 0.19607843137254904\n"
     ]
    }
   ],
   "source": [
    "num1 =float(input(\"Enter number -> \"))\n",
    "num2 =float(input(\"Enter number -> \"))\n",
    "\n",
    "#operations\n",
    "sum = num1 + num2\n",
    "sub = num1 - num2\n",
    "mul = num1 * num2\n",
    "div = num1 / num2\n",
    "\n",
    "print(\"Sum\" ,sum)\n",
    "print(\"sub\" ,sub)\n",
    "print(\"Multiplication\" ,mul)\n",
    "print(\"Divide\" ,div)"
   ]
  },
  {
   "cell_type": "markdown",
   "id": "a471f2d3",
   "metadata": {},
   "source": [
    "### Swapping Two variables program\n"
   ]
  },
  {
   "cell_type": "code",
   "execution_count": 3,
   "id": "75dd1e7b",
   "metadata": {},
   "outputs": [
    {
     "name": "stdout",
     "output_type": "stream",
     "text": [
      "2\n",
      "10\n"
     ]
    }
   ],
   "source": [
    "a , b = 10 ,2\n",
    "a , b = b ,a\n",
    "print(a)\n",
    "print(b)\n"
   ]
  }
 ],
 "metadata": {
  "kernelspec": {
   "display_name": "Python 3",
   "language": "python",
   "name": "python3"
  },
  "language_info": {
   "codemirror_mode": {
    "name": "ipython",
    "version": 3
   },
   "file_extension": ".py",
   "mimetype": "text/x-python",
   "name": "python",
   "nbconvert_exporter": "python",
   "pygments_lexer": "ipython3",
   "version": "3.12.0"
  }
 },
 "nbformat": 4,
 "nbformat_minor": 5
}
