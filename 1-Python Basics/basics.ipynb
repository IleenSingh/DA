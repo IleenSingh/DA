{
 "cells": [
  {
   "cell_type": "code",
   "execution_count": 2,
   "id": "b23ebd32",
   "metadata": {},
   "outputs": [
    {
     "name": "stdout",
     "output_type": "stream",
     "text": [
      "Hello World\n"
     ]
    }
   ],
   "source": [
    "print(\"Hello World\")\n"
   ]
  },
  {
   "cell_type": "markdown",
   "id": "a2a1f634",
   "metadata": {},
   "source": [
    "### Syntax and Semantics\n"
   ]
  },
  {
   "cell_type": "markdown",
   "id": "ff74f884",
   "metadata": {},
   "source": [
    "Syntax refers to the set of rules that defines the combinations of symbols that are considered to be correctly structured programs in a language. In simpler terms, syntax is about the correct arrangement of words and symbols in a code.\n",
    "\n",
    "Semantics refers to the meaning or the interpretation of the symbols, characters, and commands in a language. It is about what the code is supposed to do when it runs.\n"
   ]
  },
  {
   "cell_type": "code",
   "execution_count": null,
   "id": "a78bad58",
   "metadata": {},
   "outputs": [],
   "source": [
    "#Example\n",
    "x = 10\n",
    "y = 0\n",
    "print(x / y)\n",
    "# The syntax here is correct, but it will give a ZeroDivisionError because dividing by zero is mathematically invalid. So the meaning (semantics) of the operation is wrong."
   ]
  },
  {
   "cell_type": "markdown",
   "id": "1d02a928",
   "metadata": {},
   "source": [
    "### Type Casting\n"
   ]
  },
  {
   "cell_type": "code",
   "execution_count": 5,
   "id": "7a10eba1",
   "metadata": {},
   "outputs": [
    {
     "name": "stdout",
     "output_type": "stream",
     "text": [
      "<class 'int'>\n",
      "After Converting\n",
      "<class 'str'>\n"
     ]
    }
   ],
   "source": [
    "age = 25\n",
    "print (type(age))\n",
    "\n",
    "# converting age to string\n",
    "cnvrt =str(age)\n",
    "print(\"After Converting\")\n",
    "print(type(cnvrt))\n"
   ]
  }
 ],
 "metadata": {
  "kernelspec": {
   "display_name": "Python 3",
   "language": "python",
   "name": "python3"
  },
  "language_info": {
   "codemirror_mode": {
    "name": "ipython",
    "version": 3
   },
   "file_extension": ".py",
   "mimetype": "text/x-python",
   "name": "python",
   "nbconvert_exporter": "python",
   "pygments_lexer": "ipython3",
   "version": "3.12.0"
  }
 },
 "nbformat": 4,
 "nbformat_minor": 5
}
